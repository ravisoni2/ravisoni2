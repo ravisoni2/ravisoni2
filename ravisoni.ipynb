{
  "cells": [
    {
      "cell_type": "code",
      "execution_count": 5,
      "metadata": {},
      "outputs": [],
      "source": [
        "import pyqrcode\n",
        "from pyqrcode import QRCode\n",
        "#string which represent the QR code\n",
        "s=\"https://www.youtube.com/@CodeWithHarry\"\n",
        "#generate QR code\n",
        "url=pyqrcode.create(s)\n",
        "#create and save the png file naming \"myqr.png\"\n",
        "url.svg(\"myyoutube.svg\",scale=8)"
      ]
    }
  ],
  "metadata": {
    "kernelspec": {
      "display_name": "Python 3.11.0 64-bit",
      "language": "python",
      "name": "python3"
    },
    "language_info": {
      "codemirror_mode": {
        "name": "ipython",
        "version": 3
      },
      "file_extension": ".py",
      "mimetype": "text/x-python",
      "name": "python",
      "nbconvert_exporter": "python",
      "pygments_lexer": "ipython3",
      "version": "3.11.0"
    },
    "vscode": {
      "interpreter": {
        "hash": "fd3e43ed1e0b7f5b4bba7ee0c9d54bd68fcf5261aac28fe1af80a36a5c43bb6e"
      }
    }
  },
  "nbformat": 4,
  "nbformat_minor": 4
}
